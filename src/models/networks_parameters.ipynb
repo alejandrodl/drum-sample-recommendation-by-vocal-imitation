{
 "cells": [
  {
   "cell_type": "code",
   "execution_count": 1,
   "metadata": {},
   "outputs": [],
   "source": [
    "import pdb\n",
    "import tensorflow as tf\n",
    "\n",
    "from tensorflow import keras\n",
    "from datetime import datetime\n",
    "import matplotlib.pyplot as plt\n",
    "#import tensorflow_addons as tfa\n",
    "from itertools import combinations\n",
    "from tensorflow.keras import layers\n",
    "#import tensorflow_probability as tfp\n",
    "from tensorflow.keras import backend as K\n",
    "from tensorflow.keras.layers import Concatenate\n",
    "#tf.config.experimental_run_functions_eagerly(True)\n",
    "\n",
    "from tensorflow.keras.layers import Input, Dense, Conv2D, MaxPooling2D, UpSampling2D, Flatten, Dense, Reshape, Lambda, Conv2DTranspose, UpSampling2D\n",
    "from tensorflow.keras.models import Model"
   ]
  },
  {
   "cell_type": "code",
   "execution_count": 3,
   "metadata": {},
   "outputs": [],
   "source": [
    "latent_dim = 32"
   ]
  },
  {
   "cell_type": "code",
   "execution_count": 25,
   "metadata": {},
   "outputs": [],
   "source": [
    "\n",
    "encoder_input = keras.Input(shape=(128, 128, 1))\n",
    "\n",
    "x = layers.Conv2D(filters=8, kernel_size=(3,5), strides=(2,2), activation=None, padding='same')(encoder_input)\n",
    "x = layers.BatchNormalization()(x)\n",
    "x = layers.ReLU()(x)\n",
    "x = layers.Conv2D(filters=16, kernel_size=11, strides=(4,2), activation=None, padding='same')(x)\n",
    "x = layers.BatchNormalization()(x)\n",
    "x = layers.ReLU()(x)\n",
    "x = layers.Conv2D(filters=32, kernel_size=11, strides=(4,2), activation=None, padding='same')(x)\n",
    "x = layers.BatchNormalization()(x)\n",
    "x = layers.ReLU()(x)\n",
    "x = layers.Conv2D(filters=64, kernel_size=11, strides=(4,4), activation=None, padding='same')(x)\n",
    "x = layers.BatchNormalization()(x)\n",
    "x = layers.ReLU()(x)\n",
    "x = layers.Flatten()(x)\n",
    "#x = layers.Dropout(0.3)(x)\n",
    "#x = layers.Dense(64, activation=\"relu\")(x)\n",
    "\n",
    "z = layers.Dense(latent_dim, name=\"z\")(x)\n",
    "\n",
    "encoder = keras.Model(encoder_input, z, name=\"encoder\")\n",
    "\n",
    "# Decoder\n",
    "\n",
    "latent_inputs = keras.Input(shape=(latent_dim,))\n",
    "\n",
    "#x = layers.Dropout(0.5)(latent_inputs)\n",
    "dec = layers.Dense(units=1*4*64, activation=\"relu\")(latent_inputs)\n",
    "#x = layers.Dropout(0.5)(x)\n",
    "dec = layers.Reshape(target_shape=(1,4,64))(dec)\n",
    "dec = layers.UpSampling2D(size=(4, 4))(dec)\n",
    "dec = layers.Conv2D(filters=32, kernel_size=11, strides=1, padding='same', activation=None)(dec)\n",
    "dec = layers.BatchNormalization()(dec)\n",
    "dec = layers.ReLU()(dec)\n",
    "dec = layers.UpSampling2D(size=(4, 2))(dec)\n",
    "dec = layers.Conv2D(filters=16, kernel_size=11, strides=1, padding='same', activation=None)(dec)\n",
    "dec = layers.BatchNormalization()(dec)\n",
    "dec = layers.ReLU()(dec)\n",
    "dec = layers.UpSampling2D(size=(4, 2))(dec)\n",
    "dec = layers.Conv2D(filters=8, kernel_size=11, strides=1, padding='same', activation=None)(dec)\n",
    "dec = layers.BatchNormalization()(dec)\n",
    "dec = layers.ReLU()(dec)\n",
    "dec = layers.UpSampling2D(size=(2, 2))(dec)\n",
    "decoder_outputs = layers.Conv2D(filters=1, kernel_size=(3,5), strides=1, padding='same', activation='relu')(dec)\n",
    "\n",
    "decoder = keras.Model(latent_inputs, decoder_outputs, name=\"decoder\")\n",
    "\n",
    "# Define VAE\n",
    "\n",
    "decoder_output = decoder(encoder(encoder_input))\n",
    "model = Model(encoder_input, decoder_output)"
   ]
  },
  {
   "cell_type": "code",
   "execution_count": 27,
   "metadata": {},
   "outputs": [
    {
     "name": "stdout",
     "output_type": "stream",
     "text": [
      "Model: \"decoder\"\n",
      "_________________________________________________________________\n",
      "Layer (type)                 Output Shape              Param #   \n",
      "=================================================================\n",
      "input_38 (InputLayer)        [(None, 32)]              0         \n",
      "_________________________________________________________________\n",
      "dense_15 (Dense)             (None, 256)               8448      \n",
      "_________________________________________________________________\n",
      "reshape_11 (Reshape)         (None, 1, 4, 64)          0         \n",
      "_________________________________________________________________\n",
      "up_sampling2d_24 (UpSampling (None, 4, 16, 64)         0         \n",
      "_________________________________________________________________\n",
      "conv2d_108 (Conv2D)          (None, 4, 16, 32)         247840    \n",
      "_________________________________________________________________\n",
      "batch_normalization_136 (Bat (None, 4, 16, 32)         128       \n",
      "_________________________________________________________________\n",
      "re_lu_136 (ReLU)             (None, 4, 16, 32)         0         \n",
      "_________________________________________________________________\n",
      "up_sampling2d_25 (UpSampling (None, 16, 32, 32)        0         \n",
      "_________________________________________________________________\n",
      "conv2d_109 (Conv2D)          (None, 16, 32, 16)        61968     \n",
      "_________________________________________________________________\n",
      "batch_normalization_137 (Bat (None, 16, 32, 16)        64        \n",
      "_________________________________________________________________\n",
      "re_lu_137 (ReLU)             (None, 16, 32, 16)        0         \n",
      "_________________________________________________________________\n",
      "up_sampling2d_26 (UpSampling (None, 64, 64, 16)        0         \n",
      "_________________________________________________________________\n",
      "conv2d_110 (Conv2D)          (None, 64, 64, 8)         15496     \n",
      "_________________________________________________________________\n",
      "batch_normalization_138 (Bat (None, 64, 64, 8)         32        \n",
      "_________________________________________________________________\n",
      "re_lu_138 (ReLU)             (None, 64, 64, 8)         0         \n",
      "_________________________________________________________________\n",
      "up_sampling2d_27 (UpSampling (None, 128, 128, 8)       0         \n",
      "_________________________________________________________________\n",
      "conv2d_111 (Conv2D)          (None, 128, 128, 1)       121       \n",
      "=================================================================\n",
      "Total params: 334,097\n",
      "Trainable params: 333,985\n",
      "Non-trainable params: 112\n",
      "_________________________________________________________________\n"
     ]
    }
   ],
   "source": [
    "decoder.summary()"
   ]
  },
  {
   "cell_type": "code",
   "execution_count": 26,
   "metadata": {},
   "outputs": [
    {
     "name": "stdout",
     "output_type": "stream",
     "text": [
      "Model: \"encoder\"\n",
      "_________________________________________________________________\n",
      "Layer (type)                 Output Shape              Param #   \n",
      "=================================================================\n",
      "input_37 (InputLayer)        [(None, 128, 128, 1)]     0         \n",
      "_________________________________________________________________\n",
      "conv2d_104 (Conv2D)          (None, 64, 64, 8)         128       \n",
      "_________________________________________________________________\n",
      "batch_normalization_132 (Bat (None, 64, 64, 8)         32        \n",
      "_________________________________________________________________\n",
      "re_lu_132 (ReLU)             (None, 64, 64, 8)         0         \n",
      "_________________________________________________________________\n",
      "conv2d_105 (Conv2D)          (None, 16, 32, 16)        15504     \n",
      "_________________________________________________________________\n",
      "batch_normalization_133 (Bat (None, 16, 32, 16)        64        \n",
      "_________________________________________________________________\n",
      "re_lu_133 (ReLU)             (None, 16, 32, 16)        0         \n",
      "_________________________________________________________________\n",
      "conv2d_106 (Conv2D)          (None, 4, 16, 32)         61984     \n",
      "_________________________________________________________________\n",
      "batch_normalization_134 (Bat (None, 4, 16, 32)         128       \n",
      "_________________________________________________________________\n",
      "re_lu_134 (ReLU)             (None, 4, 16, 32)         0         \n",
      "_________________________________________________________________\n",
      "conv2d_107 (Conv2D)          (None, 1, 4, 64)          247872    \n",
      "_________________________________________________________________\n",
      "batch_normalization_135 (Bat (None, 1, 4, 64)          256       \n",
      "_________________________________________________________________\n",
      "re_lu_135 (ReLU)             (None, 1, 4, 64)          0         \n",
      "_________________________________________________________________\n",
      "flatten_12 (Flatten)         (None, 256)               0         \n",
      "_________________________________________________________________\n",
      "z (Dense)                    (None, 32)                8224      \n",
      "=================================================================\n",
      "Total params: 334,192\n",
      "Trainable params: 333,952\n",
      "Non-trainable params: 240\n",
      "_________________________________________________________________\n"
     ]
    }
   ],
   "source": [
    "encoder.summary()"
   ]
  }
 ],
 "metadata": {
  "interpreter": {
   "hash": "76abcc0a2ae877e2c09e99387db501f7dca39c1b53ab6c19a0aec5965534a7e4"
  },
  "kernelspec": {
   "display_name": "Python 3.6.6 64-bit (conda)",
   "name": "python3"
  },
  "language_info": {
   "codemirror_mode": {
    "name": "ipython",
    "version": 3
   },
   "file_extension": ".py",
   "mimetype": "text/x-python",
   "name": "python",
   "nbconvert_exporter": "python",
   "pygments_lexer": "ipython3",
   "version": "3.6.6"
  },
  "orig_nbformat": 4
 },
 "nbformat": 4,
 "nbformat_minor": 2
}
